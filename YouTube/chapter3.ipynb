{
 "cells": [
  {
   "cell_type": "markdown",
   "metadata": {},
   "source": [
    "### Chapter 3: PySpark DataFrames - 2\n",
    "1. Dropping columns\n",
    "2. Dropping Rows -- df.na.drop(how=any or all) .drop(thres=n)\n",
    "3. Various parameter in Dropping Functionalities\n",
    "4. Handling Missing values by Mean, Median and Mode -- Imputer function"
   ]
  },
  {
   "cell_type": "code",
   "execution_count": 1,
   "metadata": {},
   "outputs": [],
   "source": [
    "from pyspark.sql import SparkSession\n",
    "spark = SparkSession.builder.appName('DataFrames2').getOrCreate()"
   ]
  },
  {
   "cell_type": "code",
   "execution_count": 4,
   "metadata": {},
   "outputs": [],
   "source": [
    "df1=spark.read.csv('test3.csv',header=True,inferSchema=True)"
   ]
  },
  {
   "cell_type": "code",
   "execution_count": 5,
   "metadata": {},
   "outputs": [
    {
     "name": "stdout",
     "output_type": "stream",
     "text": [
      "+-------+----+----+-----+\n",
      "|   Name| Age| Exp|Power|\n",
      "+-------+----+----+-----+\n",
      "|  Sahil|  24|   3|  100|\n",
      "|  Singh|  22|   1|   80|\n",
      "|    Eka|  19|   0|  170|\n",
      "| Naruto|  32|  11|  230|\n",
      "| Sasuke|  32|  11|  225|\n",
      "|kakashi|  43|  22|  190|\n",
      "| Jiraya|null|null|  200|\n",
      "|   null|  34|  10|   90|\n",
      "|   null|  36|null| null|\n",
      "+-------+----+----+-----+\n",
      "\n"
     ]
    }
   ],
   "source": [
    "df1.show()"
   ]
  },
  {
   "cell_type": "code",
   "execution_count": 6,
   "metadata": {},
   "outputs": [],
   "source": [
    "##Dropping the column\n",
    "df1_drop = df1.drop('Age')"
   ]
  },
  {
   "cell_type": "code",
   "execution_count": 7,
   "metadata": {},
   "outputs": [
    {
     "name": "stdout",
     "output_type": "stream",
     "text": [
      "+-------+----+-----+\n",
      "|   Name| Exp|Power|\n",
      "+-------+----+-----+\n",
      "|  Sahil|   3|  100|\n",
      "|  Singh|   1|   80|\n",
      "|    Eka|   0|  170|\n",
      "| Naruto|  11|  230|\n",
      "| Sasuke|  11|  225|\n",
      "|kakashi|  22|  190|\n",
      "| Jiraya|null|  200|\n",
      "|   null|  10|   90|\n",
      "|   null|null| null|\n",
      "+-------+----+-----+\n",
      "\n"
     ]
    }
   ],
   "source": [
    "df1_drop.show()"
   ]
  },
  {
   "cell_type": "code",
   "execution_count": 9,
   "metadata": {},
   "outputs": [],
   "source": [
    "##Let's try dropping mulitple columns\n",
    "df1_dropMul = df1.drop('Age','Power')"
   ]
  },
  {
   "cell_type": "code",
   "execution_count": 10,
   "metadata": {},
   "outputs": [
    {
     "name": "stdout",
     "output_type": "stream",
     "text": [
      "+-------+----+\n",
      "|   Name| Exp|\n",
      "+-------+----+\n",
      "|  Sahil|   3|\n",
      "|  Singh|   1|\n",
      "|    Eka|   0|\n",
      "| Naruto|  11|\n",
      "| Sasuke|  11|\n",
      "|kakashi|  22|\n",
      "| Jiraya|null|\n",
      "|   null|  10|\n",
      "|   null|null|\n",
      "+-------+----+\n",
      "\n"
     ]
    }
   ],
   "source": [
    "df1_dropMul.show()"
   ]
  },
  {
   "cell_type": "code",
   "execution_count": 12,
   "metadata": {},
   "outputs": [],
   "source": [
    "### Deleting missing values\n",
    "# DataFrame.na -- returns a DataFrame after removing all the rows having NaN or null values\n",
    "# Functionality for working with missing data in DataFrame.\n",
    "df1_na = df1.na.drop()"
   ]
  },
  {
   "cell_type": "code",
   "execution_count": 13,
   "metadata": {},
   "outputs": [
    {
     "name": "stdout",
     "output_type": "stream",
     "text": [
      "+-------+---+---+-----+\n",
      "|   Name|Age|Exp|Power|\n",
      "+-------+---+---+-----+\n",
      "|  Sahil| 24|  3|  100|\n",
      "|  Singh| 22|  1|   80|\n",
      "|    Eka| 19|  0|  170|\n",
      "| Naruto| 32| 11|  230|\n",
      "| Sasuke| 32| 11|  225|\n",
      "|kakashi| 43| 22|  190|\n",
      "+-------+---+---+-----+\n",
      "\n"
     ]
    }
   ],
   "source": [
    "df1_na.show()"
   ]
  },
  {
   "cell_type": "code",
   "execution_count": 29,
   "metadata": {},
   "outputs": [
    {
     "name": "stdout",
     "output_type": "stream",
     "text": [
      "+-------+---+---+-----+\n",
      "|   Name|Age|Exp|Power|\n",
      "+-------+---+---+-----+\n",
      "|  Sahil| 24|  3|  100|\n",
      "|  Singh| 22|  1|   80|\n",
      "|    Eka| 19|  0|  170|\n",
      "| Naruto| 32| 11|  230|\n",
      "| Sasuke| 32| 11|  225|\n",
      "|kakashi| 43| 22|  190|\n",
      "+-------+---+---+-----+\n",
      "\n"
     ]
    }
   ],
   "source": [
    "### DataFrame.na.drop() Options\n",
    "#how Option\n",
    "'''\n",
    "how='any' OR 'all'\n",
    "if how==any, all the rows having null entries(1 or more) will be deleted/dropped\n",
    "if how==all, then only those rows will be deleted whose all entries are null\n",
    "** By default how=any\n",
    "'''\n",
    "df1.na.drop(how='any').show()"
   ]
  },
  {
   "cell_type": "code",
   "execution_count": 23,
   "metadata": {},
   "outputs": [
    {
     "name": "stdout",
     "output_type": "stream",
     "text": [
      "+-------+----+----+-----+\n",
      "|   Name| Age| Exp|Power|\n",
      "+-------+----+----+-----+\n",
      "|  Sahil|  24|   3|  100|\n",
      "|  Singh|  22|   1|   80|\n",
      "|    Eka|  19|   0|  170|\n",
      "| Naruto|  32|  11|  230|\n",
      "| Sasuke|  32|  11|  225|\n",
      "|kakashi|  43|  22|  190|\n",
      "| Jiraya|null|null|  200|\n",
      "|   null|null|null| null|\n",
      "|   null|  34|  10|   90|\n",
      "|   null|  36|null| null|\n",
      "+-------+----+----+-----+\n",
      "\n",
      "+-------+----+----+-----+\n",
      "|   Name| Age| Exp|Power|\n",
      "+-------+----+----+-----+\n",
      "|  Sahil|  24|   3|  100|\n",
      "|  Singh|  22|   1|   80|\n",
      "|    Eka|  19|   0|  170|\n",
      "| Naruto|  32|  11|  230|\n",
      "| Sasuke|  32|  11|  225|\n",
      "|kakashi|  43|  22|  190|\n",
      "| Jiraya|null|null|  200|\n",
      "|   null|  34|  10|   90|\n",
      "|   null|  36|null| null|\n",
      "+-------+----+----+-----+\n",
      "\n"
     ]
    }
   ],
   "source": [
    "### how == all\n",
    "'''\n",
    "Here, only one row will be deleted as it has all entries==null\n",
    "'''\n",
    "df1.show()\n",
    "df1.na.drop(how='all').show()"
   ]
  },
  {
   "cell_type": "code",
   "execution_count": 26,
   "metadata": {},
   "outputs": [
    {
     "name": "stdout",
     "output_type": "stream",
     "text": [
      "+-------+----+----+-----+\n",
      "|   Name| Age| Exp|Power|\n",
      "+-------+----+----+-----+\n",
      "|  Sahil|  24|   3|  100|\n",
      "|  Singh|  22|   1|   80|\n",
      "|    Eka|  19|   0|  170|\n",
      "| Naruto|  32|  11|  230|\n",
      "| Sasuke|  32|  11|  225|\n",
      "|kakashi|  43|  22|  190|\n",
      "| Jiraya|null|null|  200|\n",
      "|   null|null|null| null|\n",
      "|   null|  34|  10|   90|\n",
      "|   null|  36|null| null|\n",
      "+-------+----+----+-----+\n",
      "\n"
     ]
    }
   ],
   "source": [
    "df1.show()"
   ]
  },
  {
   "cell_type": "code",
   "execution_count": 28,
   "metadata": {},
   "outputs": [
    {
     "name": "stdout",
     "output_type": "stream",
     "text": [
      "+-------+----+----+-----+\n",
      "|   Name| Age| Exp|Power|\n",
      "+-------+----+----+-----+\n",
      "|  Sahil|  24|   3|  100|\n",
      "|  Singh|  22|   1|   80|\n",
      "|    Eka|  19|   0|  170|\n",
      "| Naruto|  32|  11|  230|\n",
      "| Sasuke|  32|  11|  225|\n",
      "|kakashi|  43|  22|  190|\n",
      "|Jiraiya|null|null|  200|\n",
      "|   null|  34|  10|   90|\n",
      "+-------+----+----+-----+\n",
      "\n"
     ]
    },
    {
     "data": {
      "text/plain": [
       "\"\\n** thres Option specifies the number of non-null values that should be present in a row\\ntherefore, .drop(thres=2) will drop all the rows who doesn't have atleast 2 non-null values\\n\""
      ]
     },
     "execution_count": 28,
     "metadata": {},
     "output_type": "execute_result"
    }
   ],
   "source": [
    "###threshold Options\n",
    "# DataFrame.na.drop(thres=)\n",
    "df1.na.drop(thresh=2).show()\n",
    "'''\n",
    "** thres Option specifies the number of non-null values that should be present in a row\n",
    "therefore, .drop(thres=2) will drop all the rows who doesn't have atleast 2 non-null values\n",
    "'''"
   ]
  },
  {
   "cell_type": "code",
   "execution_count": 31,
   "metadata": {},
   "outputs": [
    {
     "name": "stdout",
     "output_type": "stream",
     "text": [
      "+-------+----+----+-----+\n",
      "|   Name| Age| Exp|Power|\n",
      "+-------+----+----+-----+\n",
      "|  Sahil|  24|   3|  100|\n",
      "|  Singh|  22|   1|   80|\n",
      "|    Eka|  19|   0|  170|\n",
      "| Naruto|  32|  11|  230|\n",
      "| Sasuke|  32|  11|  225|\n",
      "|kakashi|  43|  22|  190|\n",
      "|Jiraiya|null|null|  200|\n",
      "|   null|null|null| null|\n",
      "|   null|  34|  10|   90|\n",
      "|   null|  36|null| null|\n",
      "+-------+----+----+-----+\n",
      "\n"
     ]
    }
   ],
   "source": [
    "df1.show()"
   ]
  },
  {
   "cell_type": "code",
   "execution_count": 36,
   "metadata": {},
   "outputs": [
    {
     "name": "stdout",
     "output_type": "stream",
     "text": [
      "+-------+----+----+-----+\n",
      "|   Name| Age| Exp|Power|\n",
      "+-------+----+----+-----+\n",
      "|  Sahil|  24|   3|  100|\n",
      "|  Singh|  22|   1|   80|\n",
      "|    Eka|  19|   0|  170|\n",
      "| Naruto|  32|  11|  230|\n",
      "| Sasuke|  32|  11|  225|\n",
      "|kakashi|  43|  22|  190|\n",
      "|Jiraiya|null|null|  200|\n",
      "|   null|null|null| null|\n",
      "|   null|  34|  10|   90|\n",
      "|   null|  36|null| null|\n",
      "| Sakura|  32|null| null|\n",
      "+-------+----+----+-----+\n",
      "\n"
     ]
    }
   ],
   "source": [
    "df1 = spark.read.csv('test3.csv',header=True,inferSchema=True)\n",
    "df1.show()"
   ]
  },
  {
   "cell_type": "code",
   "execution_count": 38,
   "metadata": {},
   "outputs": [
    {
     "name": "stdout",
     "output_type": "stream",
     "text": [
      "+-------+---+---+-----+\n",
      "|   Name|Age|Exp|Power|\n",
      "+-------+---+---+-----+\n",
      "|  Sahil| 24|  3|  100|\n",
      "|  Singh| 22|  1|   80|\n",
      "|    Eka| 19|  0|  170|\n",
      "| Naruto| 32| 11|  230|\n",
      "| Sasuke| 32| 11|  225|\n",
      "|kakashi| 43| 22|  190|\n",
      "|   null| 34| 10|   90|\n",
      "+-------+---+---+-----+\n",
      "\n"
     ]
    },
    {
     "data": {
      "text/plain": [
       "\"\\nDropped all the rows who doesn't have atleast 3 non-null values\\n\""
      ]
     },
     "execution_count": 38,
     "metadata": {},
     "output_type": "execute_result"
    }
   ],
   "source": [
    "df1.na.drop(thresh=3).show()\n",
    "'''\n",
    "Dropped all the rows who doesn't have atleast 3 non-null values\n",
    "'''"
   ]
  },
  {
   "cell_type": "code",
   "execution_count": 9,
   "metadata": {},
   "outputs": [
    {
     "name": "stdout",
     "output_type": "stream",
     "text": [
      "+-------+----+----+-----+\n",
      "|   Name| Age| Exp|Power|\n",
      "+-------+----+----+-----+\n",
      "|  Sahil|  24|   3|  100|\n",
      "|  Singh|  22|   1|   80|\n",
      "|    Eka|  19|   0|  170|\n",
      "| Naruto|  32|  11|  230|\n",
      "| Sasuke|  32|  11|  225|\n",
      "|kakashi|  43|  22|  190|\n",
      "|Jiraiya|null|null|  200|\n",
      "+-------+----+----+-----+\n",
      "\n"
     ]
    }
   ],
   "source": [
    "## Checking for null values and dropping specific columns\n",
    "#DataFrame.na.drop(subset=[])\n",
    "df1.na.drop(subset=['Power','Name']).show()"
   ]
  },
  {
   "cell_type": "code",
   "execution_count": 11,
   "metadata": {},
   "outputs": [
    {
     "name": "stdout",
     "output_type": "stream",
     "text": [
      "+-------+----+----+-----+\n",
      "|   Name| Age| Exp|Power|\n",
      "+-------+----+----+-----+\n",
      "|  Sahil|  24|   3|  100|\n",
      "|  Singh|  22|   1|   80|\n",
      "|    Eka|  19|   0|  170|\n",
      "| Naruto|  32|  11|  230|\n",
      "| Sasuke|  32|  11|  225|\n",
      "|kakashi|  43|  22|  190|\n",
      "|Jiraiya|null|null|  200|\n",
      "|  Empty|null|null| null|\n",
      "|  Empty|  34|  10|   90|\n",
      "|  Empty|  36|null| null|\n",
      "| Sakura|  32|null| null|\n",
      "+-------+----+----+-----+\n",
      "\n"
     ]
    },
    {
     "data": {
      "text/plain": [
       "\"\\nNotice only the string dtypes values are set to 'Empty' and not the Integers\\n\""
      ]
     },
     "execution_count": 11,
     "metadata": {},
     "output_type": "execute_result"
    }
   ],
   "source": [
    "## Filling the missing Values\n",
    "'''\n",
    "DataFrame.na.fill('yourValue') -- this method will fill the 'yourValue' in place of null values in the table\n",
    "**Note: This works on string values only\n",
    "'''\n",
    "df1.na.fill('Empty').show()\n",
    "'''\n",
    " Notice that only the string dtypes values are set to 'Empty' and not the Integers\n",
    "'''"
   ]
  },
  {
   "cell_type": "code",
   "execution_count": 13,
   "metadata": {},
   "outputs": [
    {
     "data": {
      "text/plain": [
       "[('Name', 'string'), ('Age', 'string'), ('Exp', 'string'), ('Power', 'string')]"
      ]
     },
     "execution_count": 13,
     "metadata": {},
     "output_type": "execute_result"
    }
   ],
   "source": [
    "df2=spark.read.csv('test3.csv',header=True)\n",
    "df2.dtypes"
   ]
  },
  {
   "cell_type": "code",
   "execution_count": 15,
   "metadata": {},
   "outputs": [
    {
     "name": "stdout",
     "output_type": "stream",
     "text": [
      "+-------+-----+-----+-----+\n",
      "|   Name|  Age|  Exp|Power|\n",
      "+-------+-----+-----+-----+\n",
      "|  Sahil|   24|    3|  100|\n",
      "|  Singh|   22|    1|   80|\n",
      "|    Eka|   19|    0|  170|\n",
      "| Naruto|   32|   11|  230|\n",
      "| Sasuke|   32|   11|  225|\n",
      "|kakashi|   43|   22|  190|\n",
      "|Jiraiya|Empty|Empty|  200|\n",
      "|  Empty|Empty|Empty|Empty|\n",
      "|  Empty|   34|   10|   90|\n",
      "|  Empty|   36|Empty|Empty|\n",
      "| Sakura|   32|Empty|Empty|\n",
      "+-------+-----+-----+-----+\n",
      "\n"
     ]
    },
    {
     "data": {
      "text/plain": [
       "\"\\n Here all the null values will be set to 'Empty' as everything is String here.\\n\""
      ]
     },
     "execution_count": 15,
     "metadata": {},
     "output_type": "execute_result"
    }
   ],
   "source": [
    "### Now lets try the .fill() method\n",
    "\n",
    "df2.na.fill('Empty').show()\n",
    "'''\n",
    " Here all the null values will be set to 'Empty' as everything is String here.\n",
    "'''"
   ]
  },
  {
   "cell_type": "code",
   "execution_count": 18,
   "metadata": {},
   "outputs": [
    {
     "name": "stdout",
     "output_type": "stream",
     "text": [
      "+-------+----+-----+-----+\n",
      "|   Name| Age|  Exp|Power|\n",
      "+-------+----+-----+-----+\n",
      "|  Sahil|  24|    3|  100|\n",
      "|  Singh|  22|    1|   80|\n",
      "|    Eka|  19|    0|  170|\n",
      "| Naruto|  32|   11|  230|\n",
      "| Sasuke|  32|   11|  225|\n",
      "|kakashi|  43|   22|  190|\n",
      "|Jiraiya|null|blahh|  200|\n",
      "|  blahh|null|blahh| null|\n",
      "|  blahh|  34|   10|   90|\n",
      "|  blahh|  36|blahh| null|\n",
      "| Sakura|  32|blahh| null|\n",
      "+-------+----+-----+-----+\n",
      "\n"
     ]
    }
   ],
   "source": [
    "### Lets fill only some columns\n",
    "df2.na.fill('blahh',subset=['Name','Exp']).show()"
   ]
  },
  {
   "cell_type": "code",
   "execution_count": 33,
   "metadata": {},
   "outputs": [],
   "source": [
    "### The Imputer #####\n",
    "# filling Mean values\n",
    "\n",
    "from pyspark.ml.feature import Imputer\n",
    "\n",
    "imputer=Imputer(\n",
    "    inputCols=['Age','Exp','Power'],\n",
    "    outputCols=[f\"{c}_imputed\" for c in ['Age','Exp','Power']]\n",
    ").setStrategy(\"mean\")"
   ]
  },
  {
   "cell_type": "code",
   "execution_count": 34,
   "metadata": {},
   "outputs": [
    {
     "name": "stdout",
     "output_type": "stream",
     "text": [
      "+-------+----+----+-----+-----------+-----------+-------------+\n",
      "|   Name| Age| Exp|Power|Age_imputed|Exp_imputed|Power_imputed|\n",
      "+-------+----+----+-----+-----------+-----------+-------------+\n",
      "|  Sahil|  24|   3|  100|         24|          3|          100|\n",
      "|  Singh|  22|   1|   80|         22|          1|           80|\n",
      "|    Eka|  19|   0|  170|         19|          0|          170|\n",
      "| Naruto|  32|  11|  230|         32|         11|          230|\n",
      "| Sasuke|  32|  11|  225|         32|         11|          225|\n",
      "|kakashi|  43|  22|  190|         43|         22|          190|\n",
      "|Jiraiya|null|null|  200|         30|          8|          200|\n",
      "|   null|null|null| null|         30|          8|          160|\n",
      "|   null|  34|  10|   90|         34|         10|           90|\n",
      "|   null|  36|null| null|         36|          8|          160|\n",
      "| Sakura|  32|null| null|         32|          8|          160|\n",
      "+-------+----+----+-----+-----------+-----------+-------------+\n",
      "\n"
     ]
    }
   ],
   "source": [
    "imputer.fit(df1).transform(df1).show()"
   ]
  },
  {
   "cell_type": "code",
   "execution_count": 35,
   "metadata": {},
   "outputs": [],
   "source": [
    "##Imputer filling Mode values\n",
    "from pyspark.ml.feature import Imputer\n",
    "imputer2 = Imputer(\n",
    "    inputCols=['Age','Exp','Power'],\n",
    "    outputCols=[f\"{col}_Mode\" for col in ['Age','Exp','Power']]\n",
    ").setStrategy('mode')"
   ]
  },
  {
   "cell_type": "code",
   "execution_count": 36,
   "metadata": {},
   "outputs": [
    {
     "name": "stdout",
     "output_type": "stream",
     "text": [
      "+-------+----+----+-----+--------+--------+----------+\n",
      "|   Name| Age| Exp|Power|Age_Mode|Exp_Mode|Power_Mode|\n",
      "+-------+----+----+-----+--------+--------+----------+\n",
      "|  Sahil|  24|   3|  100|      24|       3|       100|\n",
      "|  Singh|  22|   1|   80|      22|       1|        80|\n",
      "|    Eka|  19|   0|  170|      19|       0|       170|\n",
      "| Naruto|  32|  11|  230|      32|      11|       230|\n",
      "| Sasuke|  32|  11|  225|      32|      11|       225|\n",
      "|kakashi|  43|  22|  190|      43|      22|       190|\n",
      "|Jiraiya|null|null|  200|      32|      11|       200|\n",
      "|   null|null|null| null|      32|      11|        80|\n",
      "|   null|  34|  10|   90|      34|      10|        90|\n",
      "|   null|  36|null| null|      36|      11|        80|\n",
      "| Sakura|  32|null| null|      32|      11|        80|\n",
      "+-------+----+----+-----+--------+--------+----------+\n",
      "\n"
     ]
    }
   ],
   "source": [
    "imputer2.fit(df1).transform(df1).show()"
   ]
  },
  {
   "cell_type": "code",
   "execution_count": 37,
   "metadata": {},
   "outputs": [
    {
     "name": "stdout",
     "output_type": "stream",
     "text": [
      "+-------+----+----+-----+----------+----------+------------+\n",
      "|   Name| Age| Exp|Power|Age_Median|Exp_Median|Power_Median|\n",
      "+-------+----+----+-----+----------+----------+------------+\n",
      "|  Sahil|  24|   3|  100|        24|         3|         100|\n",
      "|  Singh|  22|   1|   80|        22|         1|          80|\n",
      "|    Eka|  19|   0|  170|        19|         0|         170|\n",
      "| Naruto|  32|  11|  230|        32|        11|         230|\n",
      "| Sasuke|  32|  11|  225|        32|        11|         225|\n",
      "|kakashi|  43|  22|  190|        43|        22|         190|\n",
      "|Jiraiya|null|null|  200|        32|        10|         200|\n",
      "|   null|null|null| null|        32|        10|         170|\n",
      "|   null|  34|  10|   90|        34|        10|          90|\n",
      "|   null|  36|null| null|        36|        10|         170|\n",
      "| Sakura|  32|null| null|        32|        10|         170|\n",
      "+-------+----+----+-----+----------+----------+------------+\n",
      "\n"
     ]
    }
   ],
   "source": [
    "### Filling Median values in place of null ###\n",
    "\n",
    "from pyspark.ml.feature import Imputer\n",
    "imputer3=Imputer(\n",
    "    inputCols=['Age','Exp','Power'],\n",
    "    outputCols=[f\"{col}_Median\" for col in ['Age','Exp','Power']]\n",
    ").setStrategy('median')\n",
    "\n",
    "imputer3.fit(df1).transform(df1).show()"
   ]
  },
  {
   "cell_type": "code",
   "execution_count": null,
   "metadata": {},
   "outputs": [],
   "source": []
  }
 ],
 "metadata": {
  "interpreter": {
   "hash": "f41437d9621cdc4145807b840ca9cf52f9f2549e3509071274c5bafe89acb08e"
  },
  "kernelspec": {
   "display_name": "Python 3.10.4 ('myenv')",
   "language": "python",
   "name": "python3"
  },
  "language_info": {
   "codemirror_mode": {
    "name": "ipython",
    "version": 3
   },
   "file_extension": ".py",
   "mimetype": "text/x-python",
   "name": "python",
   "nbconvert_exporter": "python",
   "pygments_lexer": "ipython3",
   "version": "3.10.4"
  },
  "orig_nbformat": 4
 },
 "nbformat": 4,
 "nbformat_minor": 2
}
