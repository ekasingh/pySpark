{
 "cells": [
  {
   "cell_type": "markdown",
   "metadata": {},
   "source": [
    "### Chapter 4: Filter Operations\n",
    "when working with string condition || when working with column\n",
    "1. and || &                                 &\n",
    "2. or  || |\n",
    "3. not || ~"
   ]
  },
  {
   "cell_type": "code",
   "execution_count": 2,
   "metadata": {},
   "outputs": [],
   "source": [
    "from pyspark.sql import SparkSession\n",
    "spark = SparkSession.builder.appName('DataFrame').getOrCreate()"
   ]
  },
  {
   "cell_type": "code",
   "execution_count": 3,
   "metadata": {},
   "outputs": [],
   "source": [
    "df_filter = spark.read.csv('test3.csv',header=True,inferSchema=True)"
   ]
  },
  {
   "cell_type": "code",
   "execution_count": 4,
   "metadata": {},
   "outputs": [
    {
     "name": "stdout",
     "output_type": "stream",
     "text": [
      "+-------+----+----+-----+\n",
      "|   Name| Age| Exp|Power|\n",
      "+-------+----+----+-----+\n",
      "|  Sahil|  24|   3|  100|\n",
      "|  Singh|  22|   1|   80|\n",
      "|    Eka|  19|   0|  170|\n",
      "| Naruto|  32|  11|  230|\n",
      "| Sasuke|  32|  11|  225|\n",
      "|kakashi|  43|  22|  190|\n",
      "|Jiraiya|null|null|  200|\n",
      "|   null|null|null| null|\n",
      "|   null|  34|  10|   90|\n",
      "|   null|  36|null| null|\n",
      "| Sakura|  32|null| null|\n",
      "+-------+----+----+-----+\n",
      "\n"
     ]
    }
   ],
   "source": [
    "df_filter.show()"
   ]
  },
  {
   "cell_type": "markdown",
   "metadata": {},
   "source": [
    "Let's work with filter"
   ]
  },
  {
   "cell_type": "code",
   "execution_count": 8,
   "metadata": {},
   "outputs": [
    {
     "name": "stdout",
     "output_type": "stream",
     "text": [
      "+-------+----+----+-----+\n",
      "|   Name| Age| Exp|Power|\n",
      "+-------+----+----+-----+\n",
      "| Naruto|  32|  11|  230|\n",
      "| Sasuke|  32|  11|  225|\n",
      "|Jiraiya|null|null|  200|\n",
      "+-------+----+----+-----+\n",
      "\n"
     ]
    },
    {
     "data": {
      "text/plain": [
       "'\\n Filtering and getting only the records whose Power>=200\\n'"
      ]
     },
     "execution_count": 8,
     "metadata": {},
     "output_type": "execute_result"
    }
   ],
   "source": [
    "df_filter.filter('Power>=200').show()\n",
    "'''\n",
    " Filtering and getting only the records whose Power>=200\n",
    "'''"
   ]
  },
  {
   "cell_type": "code",
   "execution_count": 9,
   "metadata": {},
   "outputs": [],
   "source": [
    "### filtering and printing specific columns\n",
    "df1 = df_filter.filter('Power>=200').select(['Name','Power'])"
   ]
  },
  {
   "cell_type": "code",
   "execution_count": 11,
   "metadata": {},
   "outputs": [
    {
     "name": "stdout",
     "output_type": "stream",
     "text": [
      "+-------+-----+\n",
      "|   Name|Power|\n",
      "+-------+-----+\n",
      "| Naruto|  230|\n",
      "| Sasuke|  225|\n",
      "|Jiraiya|  200|\n",
      "+-------+-----+\n",
      "\n"
     ]
    },
    {
     "data": {
      "text/plain": [
       "'\\n Selecting only the Name and Power column, Age and Exp will not pe printed.\\n'"
      ]
     },
     "execution_count": 11,
     "metadata": {},
     "output_type": "execute_result"
    }
   ],
   "source": [
    "df1.show()\n",
    "'''\n",
    " Selecting only the Name and Power column, Age and Exp will not pe printed.\n",
    "'''"
   ]
  },
  {
   "cell_type": "markdown",
   "metadata": {},
   "source": [
    "Operators:\n",
    "and (&)\n",
    "or (|)\n",
    "not (~)\n",
    "### Note: conditions should be always a string or column."
   ]
  },
  {
   "cell_type": "code",
   "execution_count": 40,
   "metadata": {},
   "outputs": [
    {
     "name": "stdout",
     "output_type": "stream",
     "text": [
      "+------+---+---+-----+\n",
      "|  Name|Age|Exp|Power|\n",
      "+------+---+---+-----+\n",
      "|Naruto| 32| 11|  230|\n",
      "|Sasuke| 32| 11|  225|\n",
      "|  null| 34| 10|   90|\n",
      "+------+---+---+-----+\n",
      "\n"
     ]
    },
    {
     "data": {
      "text/plain": [
       "'\\n ** Note how the condition is written **\\n All records whose Exp is greater than 3 but smaller than 22.\\n'"
      ]
     },
     "execution_count": 40,
     "metadata": {},
     "output_type": "execute_result"
    }
   ],
   "source": [
    "### and\n",
    "df2 = df_filter.filter('Exp>3 and Exp<22')\n",
    "df2.show()\n",
    "'''\n",
    " ** Note how the condition is written **\n",
    " All records whose Exp is greater than 3 but smaller than 22.\n",
    "'''"
   ]
  },
  {
   "cell_type": "code",
   "execution_count": 41,
   "metadata": {},
   "outputs": [
    {
     "name": "stdout",
     "output_type": "stream",
     "text": [
      "+-------+---+---+-----+\n",
      "|   Name|Age|Exp|Power|\n",
      "+-------+---+---+-----+\n",
      "| Naruto| 32| 11|  230|\n",
      "| Sasuke| 32| 11|  225|\n",
      "|kakashi| 43| 22|  190|\n",
      "+-------+---+---+-----+\n",
      "\n"
     ]
    },
    {
     "data": {
      "text/plain": [
       "\"\\n Note: Here we have used '&' and not 'and', both works the same way! \\n All records whose Exp is greater than 3 and Power is greater than 90.\\n\""
      ]
     },
     "execution_count": 41,
     "metadata": {},
     "output_type": "execute_result"
    }
   ],
   "source": [
    "### &\n",
    "# One other way to work with columns\n",
    "df2= df_filter.filter((df_filter['Exp']>3) & (df_filter['Power']>90))\n",
    "df2.show()\n",
    "\n",
    "'''\n",
    " Note: Here we have used '&' and not 'and', both works the same way! \n",
    " All records whose Exp is greater than 3 and Power is greater than 90.\n",
    "'''"
   ]
  },
  {
   "cell_type": "code",
   "execution_count": 42,
   "metadata": {},
   "outputs": [
    {
     "name": "stdout",
     "output_type": "stream",
     "text": [
      "+-------+---+---+-----+\n",
      "|   Name|Age|Exp|Power|\n",
      "+-------+---+---+-----+\n",
      "| Naruto| 32| 11|  230|\n",
      "|kakashi| 43| 22|  190|\n",
      "+-------+---+---+-----+\n",
      "\n"
     ]
    },
    {
     "data": {
      "text/plain": [
       "'\\n Notice how the string is given in the condition\\n'"
      ]
     },
     "execution_count": 42,
     "metadata": {},
     "output_type": "execute_result"
    }
   ],
   "source": [
    "### 'or' and '|'\n",
    "\n",
    "df3 = df_filter.filter(\"Name='Naruto' or Name='kakashi'\")\n",
    "df3.show()\n",
    "'''\n",
    " Notice how the string is given in the condition\n",
    "'''"
   ]
  },
  {
   "cell_type": "code",
   "execution_count": 51,
   "metadata": {},
   "outputs": [
    {
     "name": "stdout",
     "output_type": "stream",
     "text": [
      "+-------+----+-----+\n",
      "|   Name| Exp|Power|\n",
      "+-------+----+-----+\n",
      "|  Sahil|   3|  100|\n",
      "|  Singh|   1|   80|\n",
      "|    Eka|   0|  170|\n",
      "| Sasuke|  11|  225|\n",
      "|Jiraiya|null|  200|\n",
      "| Sakura|null| null|\n",
      "+-------+----+-----+\n",
      "\n"
     ]
    }
   ],
   "source": [
    "df3 = df_filter.filter(\"Name!='kakashi' and Name!='Naruto'\").select(['Name','Exp','Power'])\n",
    "df3.show()"
   ]
  },
  {
   "cell_type": "code",
   "execution_count": 44,
   "metadata": {},
   "outputs": [
    {
     "name": "stdout",
     "output_type": "stream",
     "text": [
      "+-------+----+----+-----+\n",
      "|   Name| Age| Exp|Power|\n",
      "+-------+----+----+-----+\n",
      "|  Sahil|  24|   3|  100|\n",
      "|  Singh|  22|   1|   80|\n",
      "|    Eka|  19|   0|  170|\n",
      "|kakashi|  43|  22|  190|\n",
      "|Jiraiya|null|null|  200|\n",
      "| Sakura|  32|null| null|\n",
      "+-------+----+----+-----+\n",
      "\n"
     ]
    }
   ],
   "source": [
    "### the not ! operator\n",
    "\n",
    "df4 = df_filter.filter((df_filter['Name']!='Naruto') & (df_filter['Name']!='Sasuke'))\n",
    "df4.show()"
   ]
  },
  {
   "cell_type": "markdown",
   "metadata": {},
   "source": [
    "### is not"
   ]
  },
  {
   "cell_type": "code",
   "execution_count": 47,
   "metadata": {},
   "outputs": [
    {
     "name": "stdout",
     "output_type": "stream",
     "text": [
      "+-------+---+----+-----+\n",
      "|   Name|Age| Exp|Power|\n",
      "+-------+---+----+-----+\n",
      "|  Sahil| 24|   3|  100|\n",
      "|  Singh| 22|   1|   80|\n",
      "|    Eka| 19|   0|  170|\n",
      "| Naruto| 32|  11|  230|\n",
      "| Sasuke| 32|  11|  225|\n",
      "|kakashi| 43|  22|  190|\n",
      "| Sakura| 32|null| null|\n",
      "+-------+---+----+-----+\n",
      "\n"
     ]
    }
   ],
   "source": [
    "df_filter.filter('Age is not null and Name is not null').show()"
   ]
  },
  {
   "cell_type": "markdown",
   "metadata": {},
   "source": [
    "### BETWEEN"
   ]
  },
  {
   "cell_type": "code",
   "execution_count": 54,
   "metadata": {},
   "outputs": [
    {
     "name": "stdout",
     "output_type": "stream",
     "text": [
      "+-------+---+----+-----+\n",
      "|   Name|Age| Exp|Power|\n",
      "+-------+---+----+-----+\n",
      "| Naruto| 32|  11|  230|\n",
      "| Sasuke| 32|  11|  225|\n",
      "|kakashi| 43|  22|  190|\n",
      "|   null| 34|  10|   90|\n",
      "|   null| 36|null| null|\n",
      "| Sakura| 32|null| null|\n",
      "+-------+---+----+-----+\n",
      "\n"
     ]
    }
   ],
   "source": [
    "df_filter.filter('Age BETWEEN 32 and 43').show()"
   ]
  },
  {
   "cell_type": "code",
   "execution_count": null,
   "metadata": {},
   "outputs": [],
   "source": []
  }
 ],
 "metadata": {
  "interpreter": {
   "hash": "f41437d9621cdc4145807b840ca9cf52f9f2549e3509071274c5bafe89acb08e"
  },
  "kernelspec": {
   "display_name": "Python 3.10.4 ('myenv')",
   "language": "python",
   "name": "python3"
  },
  "language_info": {
   "codemirror_mode": {
    "name": "ipython",
    "version": 3
   },
   "file_extension": ".py",
   "mimetype": "text/x-python",
   "name": "python",
   "nbconvert_exporter": "python",
   "pygments_lexer": "ipython3",
   "version": "3.10.4"
  },
  "orig_nbformat": 4
 },
 "nbformat": 4,
 "nbformat_minor": 2
}
