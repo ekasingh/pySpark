{
 "cells": [
  {
   "cell_type": "markdown",
   "metadata": {},
   "source": [
    "### Minimum, Maximum & Average Value of PySpark Dataframe"
   ]
  },
  {
   "cell_type": "code",
   "execution_count": null,
   "metadata": {},
   "outputs": [],
   "source": [
    "import pyspark\n",
    "from pyspark.sql import SparkSession\n",
    "spark = SparkSession.builder.appName('gfg').getOrCreate()\n",
    "spark"
   ]
  },
  {
   "cell_type": "code",
   "execution_count": 13,
   "metadata": {},
   "outputs": [
    {
     "name": "stdout",
     "output_type": "stream",
     "text": [
      "+---------+------------+------+---+\n",
      "|     Name| Departments|salary|Exp|\n",
      "+---------+------------+------+---+\n",
      "|    Krish|Data Science| 10000|  3|\n",
      "|    Krish|         IOT|  5000|  4|\n",
      "|   Mahesh|    Big Data|  4000|  1|\n",
      "|    Krish|    Big Data|  4000|  6|\n",
      "|   Mahesh|Data Science|  3000|  2|\n",
      "|Sudhanshu|Data Science| 20000| 15|\n",
      "|Sudhanshu|         IOT| 10000|  2|\n",
      "|Sudhanshu|    Big Data|  5000|  6|\n",
      "|    Sunny|Data Science| 10000|  3|\n",
      "|    Sunny|    Big Data|  2000|  6|\n",
      "+---------+------------+------+---+\n",
      "\n"
     ]
    }
   ],
   "source": [
    "df = spark.read.csv('../Youtube/test5.csv',header=True,inferSchema=True)\n",
    "df.show()"
   ]
  },
  {
   "cell_type": "markdown",
   "metadata": {},
   "source": [
    "Aggregate Functions\n",
    "1. Syntax:\n",
    "   DataFrame.agg({'columnToapplyOn':'agg functions- sum, avg,etc...'})"
   ]
  },
  {
   "cell_type": "code",
   "execution_count": 9,
   "metadata": {},
   "outputs": [
    {
     "name": "stdout",
     "output_type": "stream",
     "text": [
      "+-----------+\n",
      "|avg(salary)|\n",
      "+-----------+\n",
      "|     7300.0|\n",
      "+-----------+\n",
      "\n"
     ]
    }
   ],
   "source": [
    "## Average\n",
    "# agg({:'avg'})\n",
    "\n",
    "df_avg = df.agg({'salary':'avg'})\n",
    "df_avg.show()"
   ]
  },
  {
   "cell_type": "code",
   "execution_count": 10,
   "metadata": {},
   "outputs": [
    {
     "name": "stdout",
     "output_type": "stream",
     "text": [
      "+-----------+\n",
      "|sum(salary)|\n",
      "+-----------+\n",
      "|      73000|\n",
      "+-----------+\n",
      "\n"
     ]
    }
   ],
   "source": [
    "## Sum\n",
    "df.agg({'salary':'sum'}).show()"
   ]
  },
  {
   "cell_type": "code",
   "execution_count": 16,
   "metadata": {},
   "outputs": [
    {
     "name": "stdout",
     "output_type": "stream",
     "text": [
      "+-----------+--------+\n",
      "|min(salary)|max(Exp)|\n",
      "+-----------+--------+\n",
      "|       2000|      15|\n",
      "+-----------+--------+\n",
      "\n"
     ]
    }
   ],
   "source": [
    "## max and min\n",
    "df.agg({'salary':'min',\n",
    "         'Exp':'max'\n",
    "}).show()"
   ]
  },
  {
   "cell_type": "code",
   "execution_count": null,
   "metadata": {},
   "outputs": [],
   "source": []
  }
 ],
 "metadata": {
  "interpreter": {
   "hash": "f41437d9621cdc4145807b840ca9cf52f9f2549e3509071274c5bafe89acb08e"
  },
  "kernelspec": {
   "display_name": "Python 3.10.4 ('myenv')",
   "language": "python",
   "name": "python3"
  },
  "language_info": {
   "codemirror_mode": {
    "name": "ipython",
    "version": 3
   },
   "file_extension": ".py",
   "mimetype": "text/x-python",
   "name": "python",
   "nbconvert_exporter": "python",
   "pygments_lexer": "ipython3",
   "version": "3.10.4"
  },
  "orig_nbformat": 4
 },
 "nbformat": 4,
 "nbformat_minor": 2
}
